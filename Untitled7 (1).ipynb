{
  "nbformat": 4,
  "nbformat_minor": 0,
  "metadata": {
    "colab": {
      "provenance": []
    },
    "kernelspec": {
      "name": "python3",
      "display_name": "Python 3"
    },
    "language_info": {
      "name": "python"
    }
  },
  "cells": [
    {
      "cell_type": "markdown",
      "source": [
        "#1. **What is the role of try and exception block?**"
      ],
      "metadata": {
        "id": "e-RbwI3EMR-c"
      }
    },
    {
      "cell_type": "markdown",
      "source": [
        "# Ans:-The try block lets you test a block of code for errors."
      ],
      "metadata": {
        "id": "9lzCeqSdPz0w"
      }
    },
    {
      "cell_type": "markdown",
      "source": [
        "# Example\n",
        "\n",
        "The **try** block will generate an exception, because **x** is not defined:"
      ],
      "metadata": {
        "id": "hNfxWvmHQZ9y"
      }
    },
    {
      "cell_type": "code",
      "source": [
        "try:\n",
        "  print(x)"
      ],
      "metadata": {
        "colab": {
          "base_uri": "https://localhost:8080/",
          "height": 131
        },
        "id": "RgwxPvtKP0We",
        "outputId": "57835bb3-d55c-4442-89f1-d1bedd45ed02"
      },
      "execution_count": null,
      "outputs": [
        {
          "output_type": "error",
          "ename": "SyntaxError",
          "evalue": "ignored",
          "traceback": [
            "\u001b[0;36m  File \u001b[0;32m\"<ipython-input-1-0fa08759844f>\"\u001b[0;36m, line \u001b[0;32m2\u001b[0m\n\u001b[0;31m    print(x)\u001b[0m\n\u001b[0m            ^\u001b[0m\n\u001b[0;31mSyntaxError\u001b[0m\u001b[0;31m:\u001b[0m incomplete input\n"
          ]
        }
      ]
    },
    {
      "cell_type": "markdown",
      "source": [
        "#2.What is the syntax for a basic try-except block?\n"
      ],
      "metadata": {
        "id": "z2rdddF1Qq1A"
      }
    },
    {
      "cell_type": "markdown",
      "source": [
        "#Ans:-\n",
        "# - First, the try clause is executed i.e. the code between try.\n",
        "# - If there is no exception, then only the try clause will run, except clause is finished."
      ],
      "metadata": {
        "id": "N3JD6CkqRJ8S"
      }
    },
    {
      "cell_type": "code",
      "source": [
        "try:\n",
        "  print(x)\n",
        "except:\n",
        "  print(\"An exception occurred\")"
      ],
      "metadata": {
        "colab": {
          "base_uri": "https://localhost:8080/"
        },
        "id": "m0SL5-7_P0ys",
        "outputId": "417a5637-b737-47e3-f59a-26aca7171906"
      },
      "execution_count": null,
      "outputs": [
        {
          "output_type": "stream",
          "name": "stdout",
          "text": [
            "An exception occurred\n"
          ]
        }
      ]
    },
    {
      "cell_type": "markdown",
      "source": [
        "# 3. What happens if an exception occurs inside a try block and there is no matching except block?"
      ],
      "metadata": {
        "id": "TPp77Vl2R89J"
      }
    },
    {
      "cell_type": "markdown",
      "source": [
        "# Ans:-*If an exception occurs which does not match the exception named in the except clause, it is passed on to outer try statements; if no handler is found, it is an unhandled exception and execution stops with a message as shown above.*"
      ],
      "metadata": {
        "id": "XVm0DimpnJ34"
      }
    },
    {
      "cell_type": "code",
      "source": [
        "class B(Exception):\n",
        "    pass\n",
        "\n",
        "class C(B):\n",
        "    pass\n",
        "\n",
        "class D(C):\n",
        "    pass\n",
        "\n",
        "for cls in [B, C, D]:\n",
        "    try:\n",
        "        raise cls()\n",
        "    except D:\n",
        "        print(\"D\")\n",
        "    except C:\n",
        "        print(\"C\")\n",
        "    except B:\n",
        "        print(\"B\")"
      ],
      "metadata": {
        "id": "RmSIuFEnP0kp",
        "colab": {
          "base_uri": "https://localhost:8080/"
        },
        "outputId": "c6bf4b06-dcbd-43b3-9dae-4822f6209511"
      },
      "execution_count": null,
      "outputs": [
        {
          "output_type": "stream",
          "name": "stdout",
          "text": [
            "B\n",
            "C\n",
            "D\n"
          ]
        }
      ]
    },
    {
      "cell_type": "markdown",
      "source": [
        "# 4. What is the difference between using a bare except block and specifying a specific exception type?"
      ],
      "metadata": {
        "id": "-wjbWp5NlfDS"
      }
    },
    {
      "cell_type": "code",
      "source": [
        "try:\n",
        "    with open(\"example.txt\", \"r\") as f:\n",
        "        print(f.read())\n",
        "except:\n",
        "    print(\"File not found\")"
      ],
      "metadata": {
        "colab": {
          "base_uri": "https://localhost:8080/"
        },
        "id": "ha2PPzSBsVgR",
        "outputId": "0f63d5c1-a042-4239-860c-a66e4fcd8ff4"
      },
      "execution_count": null,
      "outputs": [
        {
          "output_type": "stream",
          "name": "stdout",
          "text": [
            "File not found\n"
          ]
        }
      ]
    },
    {
      "cell_type": "markdown",
      "source": [
        "But while this code runs fine without raising any exceptions, this code will never read the file, even if it exists!!!\n",
        "\n",
        "This is because I wrote ope instead of open and the NameError was caught by my bare except, If I write the except in the correct way:"
      ],
      "metadata": {
        "id": "O0Y20vaiutVN"
      }
    },
    {
      "cell_type": "code",
      "source": [
        "try:\n",
        "    with open(\"example.txt\", \"r\") as f:\n",
        "        print(f.read())\n",
        "except FileNotFoundError:\n",
        "    print(\"File not found\")"
      ],
      "metadata": {
        "colab": {
          "base_uri": "https://localhost:8080/"
        },
        "id": "tUXdnzUqsVaV",
        "outputId": "718b5f7e-b19e-464b-dc07-e843ad6fab38"
      },
      "execution_count": null,
      "outputs": [
        {
          "output_type": "stream",
          "name": "stdout",
          "text": [
            "File not found\n"
          ]
        }
      ]
    },
    {
      "cell_type": "markdown",
      "source": [
        "#5. Can you have nested try-except blocks in Python? If yes, then give an example."
      ],
      "metadata": {
        "id": "5E0nMcJw7CT1"
      }
    },
    {
      "cell_type": "markdown",
      "source": [
        "# Ans. Nested try-except Blocks Example\n",
        "\n",
        " We can have nested try-except blocks in Python. In this case, if an exception is raised in the nested try block, the nested except block is used to handle it. In case the nested except is not able to handle it, the outer except blocks are used to handle the exception."
      ],
      "metadata": {
        "id": "76vuPavHzAUw"
      }
    },
    {
      "cell_type": "code",
      "source": [
        "x = 10\n",
        "y = 0\n",
        "\n",
        "try:\n",
        "    print(\"outer try block\")\n",
        "    try:\n",
        "        print(\"nested try block\")\n",
        "        print(x / y)\n",
        "    except TypeError as te:\n",
        "        print(\"nested except block\")\n",
        "        print(te)\n",
        "except ZeroDivisionError as ze:\n",
        "    print(\"outer except block\")\n",
        "    print(ze)"
      ],
      "metadata": {
        "id": "d9seec0ZsVXe",
        "colab": {
          "base_uri": "https://localhost:8080/"
        },
        "outputId": "d245eccf-2466-4318-da38-3ba7150ff299"
      },
      "execution_count": null,
      "outputs": [
        {
          "output_type": "stream",
          "name": "stdout",
          "text": [
            "outer try block\n",
            "nested try block\n",
            "outer except block\n",
            "division by zero\n"
          ]
        }
      ]
    },
    {
      "cell_type": "markdown",
      "source": [
        "# 6. Can we use multiple exception blocks, if yes then give an example."
      ],
      "metadata": {
        "id": "D-tO60qQzX84"
      }
    },
    {
      "cell_type": "code",
      "source": [
        "a,b=1,0\n",
        "try:\n",
        "          print(a/b)\n",
        "          print(\"This won't be printed\")\n",
        "          print('10'+10)\n",
        "except TypeError:\n",
        "          print(\"You added values of incompatible types\")\n",
        "except ZeroDivisionError:\n",
        "          print(\"You divided by 0\")"
      ],
      "metadata": {
        "id": "jD6HK2mzsVIp",
        "colab": {
          "base_uri": "https://localhost:8080/"
        },
        "outputId": "d7b5ce16-74dc-4ef2-9396-eb109b41ee67"
      },
      "execution_count": null,
      "outputs": [
        {
          "output_type": "stream",
          "name": "stdout",
          "text": [
            "You divided by 0\n"
          ]
        }
      ]
    },
    {
      "cell_type": "code",
      "source": [
        "a,b=1,0\n",
        "try:\n",
        "   print(a/b)\n",
        "except:\n",
        "   print(\"You can't divide by 0\")\n",
        "print(\"Will this be printed?\")"
      ],
      "metadata": {
        "colab": {
          "base_uri": "https://localhost:8080/"
        },
        "id": "PLkco-Z7urv4",
        "outputId": "45929b9e-7bda-43e8-bbdc-0cec99e8807a"
      },
      "execution_count": null,
      "outputs": [
        {
          "output_type": "stream",
          "name": "stdout",
          "text": [
            "You can't divide by 0\n",
            "Will this be printed?\n"
          ]
        }
      ]
    },
    {
      "cell_type": "markdown",
      "source": [
        "#7. Write the reason due to which following errors are raised:\n",
        "\n",
        "#a. EOFError\n",
        "\n",
        "#b. FloatingPointError\n",
        "\n",
        "#c. IndexError\n",
        "\n",
        "#d. MemoryError\n",
        "\n",
        "#e. OverflowError\n",
        "\n",
        "#f. TabError\n",
        "\n",
        "#g. ValueError\n"
      ],
      "metadata": {
        "id": "gmUalRHK1-y3"
      }
    },
    {
      "cell_type": "markdown",
      "source": [
        "#a. EOFError:\n",
        "\n",
        "#Reason: This error is raised when an input operation tries to read data past the end of a file or input stream, indicating that the end of the file or input has been reached unexpectedly.\n",
        "   "
      ],
      "metadata": {
        "id": "sOqYpSH6PP8T"
      }
    },
    {
      "cell_type": "code",
      "source": [
        "#Example\n",
        "try:\n",
        "    user_input = input(\"Enter something: \")\n",
        "    print(\"You entered:\", user_input)\n",
        "except EOFError:\n",
        "    print(\"Error: End of input reached unexpectedly.\")\n"
      ],
      "metadata": {
        "colab": {
          "base_uri": "https://localhost:8080/"
        },
        "id": "oOSH_53yPmOC",
        "outputId": "1b076b42-dca1-4190-dcfc-6f2f6a64a127"
      },
      "execution_count": null,
      "outputs": [
        {
          "output_type": "stream",
          "name": "stdout",
          "text": [
            "Enter something: tejas\n",
            "You entered: tejas\n"
          ]
        }
      ]
    },
    {
      "cell_type": "markdown",
      "source": [
        "#b. FloatingPointError:\n",
        "\n",
        "#Reason: This error is raised when an invalid or exceptional floating-point arithmetic operation occurs, such as dividing a floating-point number by zero or encountering a value that is not a valid number (e.g., infinity or NaN)."
      ],
      "metadata": {
        "id": "1y5d5cj7Qbig"
      }
    },
    {
      "cell_type": "code",
      "source": [
        "\n",
        "#example\n",
        "try:\n",
        "    result = 1.0 / 1.0\n",
        "except FloatingPointError:\n",
        "    print(\"Error: Invalid floating-point arithmetic operation.\")"
      ],
      "metadata": {
        "id": "-I8rCxXLPPbc"
      },
      "execution_count": null,
      "outputs": []
    },
    {
      "cell_type": "markdown",
      "source": [
        "#IndexError:\n",
        "\n",
        "#Reason: This error is raised when trying to access an invalid index in a sequence (e.g., list, tuple, string, etc.), such as a negative index, an index that exceeds the sequence's length, or when the sequence is empty."
      ],
      "metadata": {
        "id": "syPAHgvZIXDi"
      }
    },
    {
      "cell_type": "code",
      "source": [
        "try:\n",
        "    my_list = [1, 2, 3]\n",
        "    print(my_list[10])  # Accessing an index that doesn't exist in the list\n",
        "except IndexError:\n",
        "    print(\"Error: Index is out of range.\")"
      ],
      "metadata": {
        "id": "uZbPbS38ursx",
        "colab": {
          "base_uri": "https://localhost:8080/"
        },
        "outputId": "b2edb292-8f97-4ef8-fb26-5f0973c1143f"
      },
      "execution_count": null,
      "outputs": [
        {
          "output_type": "stream",
          "name": "stdout",
          "text": [
            "Error: Index is out of range.\n"
          ]
        }
      ]
    },
    {
      "cell_type": "markdown",
      "source": [
        "#d. MemoryError:\n",
        "\n",
        "#Reason: This error is raised when the program runs out of available memory while trying to allocate space for a new object or data structure."
      ],
      "metadata": {
        "id": "ZpomogMpKG14"
      }
    },
    {
      "cell_type": "code",
      "source": [
        "try:\n",
        "    big_list = [x for x in range(10**8)]  # Trying to allocate a very large list\n",
        "except MemoryError:\n",
        "    print(\"Error: Out of memory.\")"
      ],
      "metadata": {
        "id": "2gCRqHWBurp2"
      },
      "execution_count": null,
      "outputs": []
    },
    {
      "cell_type": "markdown",
      "source": [
        "#e. OverflowError:\n",
        "\n",
        "#Reason: This error is raised when an arithmetic operation results in a value that is too large to be represented within the limits of the data type being used."
      ],
      "metadata": {
        "id": "4OJxCUC3KZYW"
      }
    },
    {
      "cell_type": "code",
      "source": [
        "try:\n",
        "    result = 10**500  # An extremely large number\n",
        "except OverflowError:\n",
        "    print(\"Error: Arithmetic overflow.\")"
      ],
      "metadata": {
        "id": "r_64IMzgurm6"
      },
      "execution_count": null,
      "outputs": []
    },
    {
      "cell_type": "markdown",
      "source": [
        "#f. TabError:\n",
        "\n",
        "#Reason: This error is raised when there are inconsistencies in the indentation of Python code, usually due to mixing tabs and spaces for indentation."
      ],
      "metadata": {
        "id": "HH9RWt3kKxol"
      }
    },
    {
      "cell_type": "code",
      "source": [
        "try:\n",
        "    if True:\n",
        "      /tprint(\"Indented with a tab\")\n",
        "except TabError:\n",
        "    print(\"Error: Indentation contains a mix of tabs and spaces.\")"
      ],
      "metadata": {
        "id": "-VhBsGGVurkC",
        "colab": {
          "base_uri": "https://localhost:8080/",
          "height": 131
        },
        "outputId": "f1805a3d-814c-496f-d2e7-aa19eab0ec81"
      },
      "execution_count": null,
      "outputs": [
        {
          "output_type": "error",
          "ename": "SyntaxError",
          "evalue": "ignored",
          "traceback": [
            "\u001b[0;36m  File \u001b[0;32m\"<ipython-input-11-ca6d60d45ffe>\"\u001b[0;36m, line \u001b[0;32m3\u001b[0m\n\u001b[0;31m    tprint(\"Indented(with, a, tab\"))\u001b[0m\n\u001b[0m                                   ^\u001b[0m\n\u001b[0;31mSyntaxError\u001b[0m\u001b[0;31m:\u001b[0m unmatched ')'\n"
          ]
        }
      ]
    },
    {
      "cell_type": "markdown",
      "source": [
        "#ValueError\n",
        "\n",
        "#Certainly! ValueError is raised when a function receives an argument of the correct data type but an inappropriate value for that type. Here's an example of how ValueError can occur:"
      ],
      "metadata": {
        "id": "FCQcj8CRmaMw"
      }
    },
    {
      "cell_type": "code",
      "source": [
        "try:\n",
        "    num_str = input(\"Enter a positive integer: \")\n",
        "    num = int(num_str)\n",
        "\n",
        "    if num < 1:\n",
        "        raise ValueError(\"Please enter a positive integer.\")\n",
        "\n",
        "    print(\"You entered:\", num)\n",
        "except ValueError as e:\n",
        "    print(\"Error:\", e)"
      ],
      "metadata": {
        "id": "E611vi4OureR",
        "colab": {
          "base_uri": "https://localhost:8080/"
        },
        "outputId": "b677ccda-25fc-4d28-c3fe-18ae7f4b5587"
      },
      "execution_count": 1,
      "outputs": [
        {
          "output_type": "stream",
          "name": "stdout",
          "text": [
            "Enter a positive integer: tejas\n",
            "Error: invalid literal for int() with base 10: 'tejas'\n"
          ]
        }
      ]
    },
    {
      "cell_type": "markdown",
      "source": [
        "# 8. Write code for the following given scenario and add try-exception block to it.\n",
        "#a. Program to divide two numbers\n",
        "#b. Program to convert a string to an integer\n",
        "#c. Program to access an element in a list\n",
        "#d. Program to handle a specific exception\n",
        "#e. Program to handle any exception"
      ],
      "metadata": {
        "id": "rKxXveKMovRC"
      }
    },
    {
      "cell_type": "markdown",
      "source": [
        "a. Program to divide two numbers"
      ],
      "metadata": {
        "id": "PiC0R-sdpOr0"
      }
    },
    {
      "cell_type": "code",
      "source": [
        "def divide_numbers(a, b):\n",
        "    try:\n",
        "        result = a / b\n",
        "        print(f\"The result of {a} divided by {b} is: {result}\")\n",
        "    except ZeroDivisionError:\n",
        "        print(\"Error: Cannot divide by zero.\")\n",
        "    except Exception as e:\n",
        "        print(f\"An unexpected error occurred: {e}\")\n",
        "\n",
        "\n",
        "# Example usage:\n",
        "divide_numbers(10, 2)   # Output: The result of 10 divided by 2 is: 5.0\n",
        "divide_numbers(8, 0)    # Output: Error: Cannot divide by zero.\n",
        "divide_numbers(10, '2') # Output: An unexpected error occurred: unsupported operand type(s) for /: 'int' and 'str'"
      ],
      "metadata": {
        "id": "uy5WrTEburba",
        "colab": {
          "base_uri": "https://localhost:8080/"
        },
        "outputId": "f5356387-7ea7-452f-fea9-21d313f79841"
      },
      "execution_count": 3,
      "outputs": [
        {
          "output_type": "stream",
          "name": "stdout",
          "text": [
            "The result of 10 divided by 2 is: 5.0\n",
            "Error: Cannot divide by zero.\n",
            "An unexpected error occurred: unsupported operand type(s) for /: 'int' and 'str'\n"
          ]
        }
      ]
    },
    {
      "cell_type": "markdown",
      "source": [
        "b. Program to convert a string to an integer"
      ],
      "metadata": {
        "id": "P6VJOkjkpShB"
      }
    },
    {
      "cell_type": "code",
      "source": [
        "def convert_to_integer(string_num):\n",
        "    try:\n",
        "        num = int(string_num)\n",
        "        print(f\"The integer value of '{string_num}' is: {num}\")\n",
        "    except ValueError:\n",
        "        print(\"Error: Invalid input. Please enter a valid integer.\")\n",
        "    except Exception as e:\n",
        "        print(f\"An unexpected error occurred: {e}\")\n",
        "\n",
        "# Example usage:\n",
        "convert_to_integer(\"123\")    # Output: The integer value of '123' is: 123\n",
        "convert_to_integer(\"hello\")  # Output: Error: Invalid input. Please enter a valid integer.\n",
        "convert_to_integer(\"3.14\")   # Output: Error: Invalid input. Please enter a valid integer."
      ],
      "metadata": {
        "id": "q3o8gwiLurY3",
        "colab": {
          "base_uri": "https://localhost:8080/"
        },
        "outputId": "83e14b8f-269e-47a9-b55b-db22cf6d620e"
      },
      "execution_count": 4,
      "outputs": [
        {
          "output_type": "stream",
          "name": "stdout",
          "text": [
            "The integer value of '123' is: 123\n",
            "Error: Invalid input. Please enter a valid integer.\n",
            "Error: Invalid input. Please enter a valid integer.\n"
          ]
        }
      ]
    },
    {
      "cell_type": "markdown",
      "source": [
        "c. Program to access an element in a list"
      ],
      "metadata": {
        "id": "RUkj5CVypZYJ"
      }
    },
    {
      "cell_type": "code",
      "source": [
        "def access_list_element(my_list, index):\n",
        "    try:\n",
        "        element = my_list[index]\n",
        "        print(f\"The element at index {index} is: {element}\")\n",
        "    except IndexError:\n",
        "        print(f\"Error: Index {index} is out of range for the list.\")\n",
        "    except Exception as e:\n",
        "        print(f\"An unexpected error occurred: {e}\")\n",
        "\n",
        "# Example usage:\n",
        "my_list = [10, 20, 30, 40, 50]\n",
        "access_list_element(my_list, 2)  # Output: The element at index 2 is: 30\n",
        "access_list_element(my_list, 10) # Output: Error: Index 10 is out of range for the list."
      ],
      "metadata": {
        "id": "_nSVUIHwurWJ",
        "colab": {
          "base_uri": "https://localhost:8080/"
        },
        "outputId": "13c2a7d2-787e-4057-9230-0b512df15696"
      },
      "execution_count": 5,
      "outputs": [
        {
          "output_type": "stream",
          "name": "stdout",
          "text": [
            "The element at index 2 is: 30\n",
            "Error: Index 10 is out of range for the list.\n"
          ]
        }
      ]
    },
    {
      "cell_type": "markdown",
      "source": [
        "d. Program to handle a specific exception:"
      ],
      "metadata": {
        "id": "8xRN51YVqMIK"
      }
    },
    {
      "cell_type": "code",
      "source": [
        "def specific_exception_handling():\n",
        "    try:\n",
        "        # Some operation that may raise a specific exception\n",
        "        x = 10 / 0\n",
        "    except ZeroDivisionError:\n",
        "        print(\"Error: Cannot divide by zero.\")\n",
        "    except Exception as e:\n",
        "        print(f\"An unexpected error occurred: {e}\")\n",
        "\n",
        "# Example usage:\n",
        "specific_exception_handling() # Output: Error: Cannot divide by zero."
      ],
      "metadata": {
        "id": "-nW91hEjurTT",
        "colab": {
          "base_uri": "https://localhost:8080/"
        },
        "outputId": "efab7d72-2748-4522-9ed4-6f8e2bdf94ae"
      },
      "execution_count": 6,
      "outputs": [
        {
          "output_type": "stream",
          "name": "stdout",
          "text": [
            "Error: Cannot divide by zero.\n"
          ]
        }
      ]
    },
    {
      "cell_type": "markdown",
      "source": [
        "e. Program to handle any exception:"
      ],
      "metadata": {
        "id": "qEpoefPOqYeI"
      }
    },
    {
      "cell_type": "code",
      "source": [
        "def handle_any_exception():\n",
        "    try:\n",
        "        # Some operation that may raise an exception\n",
        "        num_str = input(\"Enter a number: \")\n",
        "        num = int(num_str)\n",
        "        result = 10 / num\n",
        "        print(f\"The result of 10 divided by {num} is: {result}\")\n",
        "    except Exception as e:\n",
        "        print(f\"An error occurred: {e}\")\n",
        "\n",
        "# Example usage:\n",
        "handle_any_exception()"
      ],
      "metadata": {
        "id": "7rSxBRo0urQ-",
        "colab": {
          "base_uri": "https://localhost:8080/"
        },
        "outputId": "9a4f1781-ac48-4583-93a7-8b7e06062590"
      },
      "execution_count": 8,
      "outputs": [
        {
          "output_type": "stream",
          "name": "stdout",
          "text": [
            "Enter a number: 100\n",
            "The result of 10 divided by 100 is: 0.1\n"
          ]
        }
      ]
    },
    {
      "cell_type": "code",
      "source": [],
      "metadata": {
        "id": "Goz1VmEPurN5"
      },
      "execution_count": null,
      "outputs": []
    },
    {
      "cell_type": "code",
      "source": [],
      "metadata": {
        "id": "rdzIqvBFurLU"
      },
      "execution_count": null,
      "outputs": []
    }
  ]
}